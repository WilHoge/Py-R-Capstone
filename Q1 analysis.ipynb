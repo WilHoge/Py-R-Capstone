{
 "cells": [
  {
   "cell_type": "code",
   "execution_count": null,
   "metadata": {},
   "outputs": [],
   "source": [
    "# Read 311 data from local file system\n",
    "\n",
    "import pandas as pd\n",
    "\n",
    "df_311 = pd.read_csv('311.csv')"
   ]
  },
  {
   "cell_type": "code",
   "execution_count": 46,
   "metadata": {},
   "outputs": [
    {
     "name": "stdout",
     "output_type": "stream",
     "text": [
      "The 311 dataset has 5730709 rows and 22 columns\n"
     ]
    }
   ],
   "source": [
    "# get the dataset dimensions\n",
    "\n",
    "num_rows, num_cols = df_311.shape\n",
    "print (\"The 311 dataset has %d rows and %d columns\" % (num_rows,num_cols))"
   ]
  },
  {
   "cell_type": "code",
   "execution_count": 47,
   "metadata": {},
   "outputs": [
    {
     "name": "stdout",
     "output_type": "stream",
     "text": [
      "311 dataset columns:\n",
      " Index(['Unnamed: 0', 'Created Date', 'Closed Date', 'Complaint Type',\n",
      "       'Descriptor', 'Location Type', 'Incident Zip', 'Incident Address',\n",
      "       'Street Name', 'Address Type', 'City', 'Landmark', 'Facility Type',\n",
      "       'Status', 'Due Date', 'Resolution Action Updated Date',\n",
      "       'Community Board', 'BBL', 'Borough', 'Open Data Channel Type',\n",
      "       'Latitude', 'Longitude'],\n",
      "      dtype='object')\n",
      "\n",
      "311 dataset data types:\n",
      " Unnamed: 0                          int64\n",
      "Created Date                       object\n",
      "Closed Date                        object\n",
      "Complaint Type                     object\n",
      "Descriptor                         object\n",
      "Location Type                      object\n",
      "Incident Zip                      float64\n",
      "Incident Address                   object\n",
      "Street Name                        object\n",
      "Address Type                       object\n",
      "City                               object\n",
      "Landmark                          float64\n",
      "Facility Type                     float64\n",
      "Status                             object\n",
      "Due Date                           object\n",
      "Resolution Action Updated Date     object\n",
      "Community Board                    object\n",
      "BBL                               float64\n",
      "Borough                            object\n",
      "Open Data Channel Type             object\n",
      "Latitude                          float64\n",
      "Longitude                         float64\n",
      "dtype: object\n"
     ]
    }
   ],
   "source": [
    "# analyze dataset columns and types\n",
    "\n",
    "print(\"311 dataset columns:\\n\", df_311.columns)\n",
    "print(\"\\n311 dataset data types:\\n\", df_311.dtypes)"
   ]
  },
  {
   "cell_type": "code",
   "execution_count": 48,
   "metadata": {},
   "outputs": [
    {
     "data": {
      "text/plain": [
       "array(['APPLIANCE', 'HPD Literature Request', 'WATER LEAK',\n",
       "       'FLOORING/STAIRS', 'HEAT/HOT WATER', 'PLUMBING', 'DOOR/WINDOW',\n",
       "       'PAINT/PLASTER', 'GENERAL', 'UNSANITARY CONDITION', 'ELECTRIC',\n",
       "       'SAFETY', 'ELEVATOR', 'OUTSIDE BUILDING', 'NONCONST', 'HEATING',\n",
       "       'PAINT - PLASTER', 'GENERAL CONSTRUCTION', 'CONSTRUCTION',\n",
       "       'STRUCTURAL', 'VACANT APARTMENT', 'AGENCY'], dtype=object)"
      ]
     },
     "execution_count": 48,
     "metadata": {},
     "output_type": "execute_result"
    }
   ],
   "source": [
    "# see what complaint types we have\n",
    "\n",
    "df_311['Complaint Type'].unique()"
   ]
  },
  {
   "cell_type": "code",
   "execution_count": 49,
   "metadata": {},
   "outputs": [
    {
     "name": "stdout",
     "output_type": "stream",
     "text": [
      "The top 4 complaints are:\n",
      "\n",
      " Complaint Type\n",
      "HEAT/HOT WATER          1129792\n",
      "HEATING                  887869\n",
      "PLUMBING                 689654\n",
      "GENERAL CONSTRUCTION     500863\n",
      "dtype: int64\n"
     ]
    },
    {
     "data": {
      "text/plain": [
       "<matplotlib.axes._subplots.AxesSubplot at 0x7f42ce30d6d8>"
      ]
     },
     "execution_count": 49,
     "metadata": {},
     "output_type": "execute_result"
    },
    {
     "data": {
      "image/png": "[encoded data removed]",
      "text/plain": [
       "<Figure size 432x288 with 1 Axes>"
      ]
     },
     "metadata": {
      "needs_background": "light"
     },
     "output_type": "display_data"
    }
   ],
   "source": [
    "# see how the complaints are distributed\n",
    "%matplotlib inline\n",
    "\n",
    "df_311_complaints = df_311.groupby(['Complaint Type']).size().sort_values(ascending=False)\n",
    "\n",
    "print (\"The top 4 complaints are:\\n\\n\", df_311_complaints.head(4))\n",
    "\n",
    "df_311_complaints.plot('bar', title=\"Distribution of complaints:\")"
   ]
  },
  {
   "cell_type": "code",
   "execution_count": null,
   "metadata": {},
   "outputs": [],
   "source": []
  }
 ],
 "metadata": {
  "kernelspec": {
   "display_name": "Python 3",
   "language": "python",
   "name": "python3"
  },
  "language_info": {
   "codemirror_mode": {
    "name": "ipython",
    "version": 3
   },
   "file_extension": ".py",
   "mimetype": "text/x-python",
   "name": "python",
   "nbconvert_exporter": "python",
   "pygments_lexer": "ipython3",
   "version": "3.7.1"
  }
 },
 "nbformat": 4,
 "nbformat_minor": 2
}
