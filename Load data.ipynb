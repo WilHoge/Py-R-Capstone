{
    "nbformat_minor": 1, 
    "cells": [
        {
            "source": "!pip install sodapy", 
            "cell_type": "code", 
            "metadata": {}, 
            "outputs": [
                {
                    "output_type": "stream", 
                    "name": "stdout", 
                    "text": "Collecting sodapy\n  Downloading https://files.pythonhosted.org/packages/11/02/5baf6e10a47018babcc43e3ed03a6f13712187f4ab1fbe263b479c77d117/sodapy-1.5.2-py2.py3-none-any.whl\nCollecting future>=0.17.1 (from sodapy)\n  Downloading https://files.pythonhosted.org/packages/90/52/e20466b85000a181e1e144fd8305caf2cf475e2f9674e797b222f8105f5f/future-0.17.1.tar.gz (829kB)\n\u001b[K    100% |\u2588\u2588\u2588\u2588\u2588\u2588\u2588\u2588\u2588\u2588\u2588\u2588\u2588\u2588\u2588\u2588\u2588\u2588\u2588\u2588\u2588\u2588\u2588\u2588\u2588\u2588\u2588\u2588\u2588\u2588\u2588\u2588| 829kB 1.2MB/s eta 0:00:01\n\u001b[?25hCollecting requests>=2.20.0 (from sodapy)\n  Downloading https://files.pythonhosted.org/packages/7d/e3/20f3d364d6c8e5d2353c72a67778eb189176f08e873c9900e10c0287b84b/requests-2.21.0-py2.py3-none-any.whl (57kB)\n\u001b[K    100% |\u2588\u2588\u2588\u2588\u2588\u2588\u2588\u2588\u2588\u2588\u2588\u2588\u2588\u2588\u2588\u2588\u2588\u2588\u2588\u2588\u2588\u2588\u2588\u2588\u2588\u2588\u2588\u2588\u2588\u2588\u2588\u2588| 61kB 8.5MB/s eta 0:00:01\n\u001b[?25hRequirement not upgraded as not directly required: chardet<3.1.0,>=3.0.2 in /opt/conda/envs/DSX-Python35/lib/python3.5/site-packages (from requests>=2.20.0->sodapy)\nRequirement not upgraded as not directly required: certifi>=2017.4.17 in /opt/conda/envs/DSX-Python35/lib/python3.5/site-packages (from requests>=2.20.0->sodapy)\nRequirement not upgraded as not directly required: urllib3<1.25,>=1.21.1 in /opt/conda/envs/DSX-Python35/lib/python3.5/site-packages (from requests>=2.20.0->sodapy)\nRequirement not upgraded as not directly required: idna<2.9,>=2.5 in /opt/conda/envs/DSX-Python35/lib/python3.5/site-packages (from requests>=2.20.0->sodapy)\nBuilding wheels for collected packages: future\n  Running setup.py bdist_wheel for future ... \u001b[?25ldone\n\u001b[?25h  Stored in directory: /home/dsxuser/.cache/pip/wheels/0c/61/d2/d6b7317325828fbb39ee6ad559dbe4664d0896da4721bf379e\nSuccessfully built future\nInstalling collected packages: future, requests, sodapy\n  Found existing installation: future 0.16.0\n\u001b[31m    DEPRECATION: Uninstalling a distutils installed project (future) has been deprecated and will be removed in a future version. This is due to the fact that uninstalling a distutils project will only partially uninstall the project.\u001b[0m\n    Uninstalling future-0.16.0:\n      Successfully uninstalled future-0.16.0\n  Found existing installation: requests 2.18.4\n    Uninstalling requests-2.18.4:\n      Successfully uninstalled requests-2.18.4\nSuccessfully installed future-0.17.1 requests-2.21.0 sodapy-1.5.2\n"
                }
            ], 
            "execution_count": 2
        }, 
        {
            "source": "import pandas as pd\nfrom sodapy import Socrata\n\n# Unauthenticated client only works with public data sets. Note 'None'\n# in place of application token, and no username or password:\n\n#client = Socrata(\"data.cityofnewyork.us\", None)\n\nappToken = '2JjXVN1Mrr63DgATy1isfsvYg'\nuser='hoge@de.ibm.com'\npw='iaCRT23tP9g52KX'\n\nclient = Socrata(\"data.cityofnewyork.us\",\n                  appToken,\n                  username=user,\n                  password=pw)\n", 
            "cell_type": "code", 
            "metadata": {}, 
            "outputs": [], 
            "execution_count": 3
        }, 
        {
            "source": "limit=50000\ntotal=0\n\nwhile total < 1000000:\n    results = client.get(\"fhrw-4uyv\", limit=limit, offset=total, agency='HPD')\n    results_df = pd.DataFrame.from_records(results)\n    \n    res_rows, res_col = results_df.shape\n    print (\"Received %d rows from socrata\" % res_rows)\n    \n    if total == 0:\n        total_df = results_df\n    else:\n        total_df = pd.concat([total_df, results_df])\n        \n    tot_rows, tot_col = total_df.shape\n    print (\"Total of %d rows saved\" % tot_rows)\n    \n    total = tot_rows", 
            "cell_type": "code", 
            "metadata": {}, 
            "outputs": [
                {
                    "output_type": "stream", 
                    "name": "stdout", 
                    "text": "Received 50000 rows from socrata\nTotal of 50000 rows saved\nReceived 50000 rows from socrata\nTotal of 100000 rows saved\nReceived 50000 rows from socrata\nTotal of 150000 rows saved\nReceived 50000 rows from socrata\nTotal of 200000 rows saved\nReceived 50000 rows from socrata\nTotal of 250000 rows saved\nReceived 50000 rows from socrata\nTotal of 300000 rows saved\nReceived 50000 rows from socrata\nTotal of 350000 rows saved\nReceived 50000 rows from socrata\nTotal of 400000 rows saved\nReceived 50000 rows from socrata\nTotal of 450000 rows saved\nReceived 50000 rows from socrata\nTotal of 500000 rows saved\nReceived 50000 rows from socrata\nTotal of 550000 rows saved\nReceived 50000 rows from socrata\nTotal of 600000 rows saved\nReceived 50000 rows from socrata\nTotal of 650000 rows saved\nReceived 50000 rows from socrata\nTotal of 700000 rows saved\nReceived 50000 rows from socrata\nTotal of 750000 rows saved\nReceived 50000 rows from socrata\nTotal of 800000 rows saved\nReceived 50000 rows from socrata\nTotal of 850000 rows saved\nReceived 50000 rows from socrata\nTotal of 900000 rows saved\nReceived 50000 rows from socrata\nTotal of 950000 rows saved\nReceived 50000 rows from socrata\nTotal of 1000000 rows saved\n"
                }
            ], 
            "execution_count": 18
        }, 
        {
            "source": "numrows, numcolumns = total_df.shape\nnumrows", 
            "cell_type": "code", 
            "metadata": {}, 
            "outputs": [
                {
                    "output_type": "execute_result", 
                    "data": {
                        "text/plain": "1000000"
                    }, 
                    "execution_count": 19, 
                    "metadata": {}
                }
            ], 
            "execution_count": 19
        }, 
        {
            "source": "total_df.head()", 
            "cell_type": "code", 
            "metadata": {}, 
            "outputs": [
                {
                    "output_type": "execute_result", 
                    "data": {
                        "text/html": "<div>\n<style scoped>\n    .dataframe tbody tr th:only-of-type {\n        vertical-align: middle;\n    }\n\n    .dataframe tbody tr th {\n        vertical-align: top;\n    }\n\n    .dataframe thead th {\n        text-align: right;\n    }\n</style>\n<table border=\"1\" class=\"dataframe\">\n  <thead>\n    <tr style=\"text-align: right;\">\n      <th></th>\n      <th>address_type</th>\n      <th>agency</th>\n      <th>agency_name</th>\n      <th>bbl</th>\n      <th>borough</th>\n      <th>city</th>\n      <th>closed_date</th>\n      <th>community_board</th>\n      <th>complaint_type</th>\n      <th>created_date</th>\n      <th>...</th>\n      <th>open_data_channel_type</th>\n      <th>park_borough</th>\n      <th>park_facility_name</th>\n      <th>resolution_action_updated_date</th>\n      <th>resolution_description</th>\n      <th>status</th>\n      <th>street_name</th>\n      <th>unique_key</th>\n      <th>x_coordinate_state_plane</th>\n      <th>y_coordinate_state_plane</th>\n    </tr>\n  </thead>\n  <tbody>\n    <tr>\n      <th>0</th>\n      <td>ADDRESS</td>\n      <td>HPD</td>\n      <td>Department of Housing Preservation and Develop...</td>\n      <td>3015940003</td>\n      <td>BROOKLYN</td>\n      <td>BROOKLYN</td>\n      <td>2017-08-18T10:52:21.000</td>\n      <td>03 BROOKLYN</td>\n      <td>DOOR/WINDOW</td>\n      <td>2017-08-16T12:18:14.000</td>\n      <td>...</td>\n      <td>ONLINE</td>\n      <td>BROOKLYN</td>\n      <td>Unspecified</td>\n      <td>2017-08-18T10:52:21.000</td>\n      <td>The Department of Housing Preservation and Dev...</td>\n      <td>Closed</td>\n      <td>MARCUS GARVEY BOULEVARD</td>\n      <td>36959789</td>\n      <td>1000846</td>\n      <td>191999</td>\n    </tr>\n    <tr>\n      <th>1</th>\n      <td>ADDRESS</td>\n      <td>HPD</td>\n      <td>Department of Housing Preservation and Develop...</td>\n      <td>5070670150</td>\n      <td>STATEN ISLAND</td>\n      <td>STATEN ISLAND</td>\n      <td>2017-09-01T09:23:46.000</td>\n      <td>03 STATEN ISLAND</td>\n      <td>DOOR/WINDOW</td>\n      <td>2017-08-16T17:12:49.000</td>\n      <td>...</td>\n      <td>ONLINE</td>\n      <td>STATEN ISLAND</td>\n      <td>Unspecified</td>\n      <td>2017-09-01T09:23:46.000</td>\n      <td>The Department of Housing Preservation and Dev...</td>\n      <td>Closed</td>\n      <td>ARTHUR KILL ROAD</td>\n      <td>36959790</td>\n      <td>924602</td>\n      <td>141760</td>\n    </tr>\n    <tr>\n      <th>2</th>\n      <td>ADDRESS</td>\n      <td>HPD</td>\n      <td>Department of Housing Preservation and Develop...</td>\n      <td>3067380052</td>\n      <td>BROOKLYN</td>\n      <td>BROOKLYN</td>\n      <td>2017-08-30T21:19:18.000</td>\n      <td>14 BROOKLYN</td>\n      <td>ELECTRIC</td>\n      <td>2017-08-16T11:00:22.000</td>\n      <td>...</td>\n      <td>PHONE</td>\n      <td>BROOKLYN</td>\n      <td>Unspecified</td>\n      <td>2017-08-30T21:19:18.000</td>\n      <td>The Department of Housing Preservation and Dev...</td>\n      <td>Closed</td>\n      <td>EAST   18 STREET</td>\n      <td>36959796</td>\n      <td>996102</td>\n      <td>164811</td>\n    </tr>\n    <tr>\n      <th>3</th>\n      <td>ADDRESS</td>\n      <td>HPD</td>\n      <td>Department of Housing Preservation and Develop...</td>\n      <td>3046320069</td>\n      <td>BROOKLYN</td>\n      <td>BROOKLYN</td>\n      <td>2017-08-20T18:16:33.000</td>\n      <td>17 BROOKLYN</td>\n      <td>ELECTRIC</td>\n      <td>2017-08-16T13:37:49.000</td>\n      <td>...</td>\n      <td>PHONE</td>\n      <td>BROOKLYN</td>\n      <td>Unspecified</td>\n      <td>2017-08-20T18:16:33.000</td>\n      <td>The Department of Housing Preservation and Dev...</td>\n      <td>Closed</td>\n      <td>EAST   96 STREET</td>\n      <td>36959797</td>\n      <td>1005887</td>\n      <td>180326</td>\n    </tr>\n    <tr>\n      <th>4</th>\n      <td>ADDRESS</td>\n      <td>HPD</td>\n      <td>Department of Housing Preservation and Develop...</td>\n      <td>3024500031</td>\n      <td>BROOKLYN</td>\n      <td>BROOKLYN</td>\n      <td>2017-09-07T12:21:31.000</td>\n      <td>01 BROOKLYN</td>\n      <td>ELECTRIC</td>\n      <td>2017-08-16T17:00:10.000</td>\n      <td>...</td>\n      <td>PHONE</td>\n      <td>BROOKLYN</td>\n      <td>Unspecified</td>\n      <td>2017-09-07T12:21:31.000</td>\n      <td>The Department of Housing Preservation and Dev...</td>\n      <td>Closed</td>\n      <td>SOUTH    5 STREET</td>\n      <td>36959803</td>\n      <td>996977</td>\n      <td>197195</td>\n    </tr>\n  </tbody>\n</table>\n<p>5 rows \u00d7 31 columns</p>\n</div>", 
                        "text/plain": "  address_type agency                                        agency_name  \\\n0      ADDRESS    HPD  Department of Housing Preservation and Develop...   \n1      ADDRESS    HPD  Department of Housing Preservation and Develop...   \n2      ADDRESS    HPD  Department of Housing Preservation and Develop...   \n3      ADDRESS    HPD  Department of Housing Preservation and Develop...   \n4      ADDRESS    HPD  Department of Housing Preservation and Develop...   \n\n          bbl        borough           city              closed_date  \\\n0  3015940003       BROOKLYN       BROOKLYN  2017-08-18T10:52:21.000   \n1  5070670150  STATEN ISLAND  STATEN ISLAND  2017-09-01T09:23:46.000   \n2  3067380052       BROOKLYN       BROOKLYN  2017-08-30T21:19:18.000   \n3  3046320069       BROOKLYN       BROOKLYN  2017-08-20T18:16:33.000   \n4  3024500031       BROOKLYN       BROOKLYN  2017-09-07T12:21:31.000   \n\n    community_board complaint_type             created_date  \\\n0       03 BROOKLYN    DOOR/WINDOW  2017-08-16T12:18:14.000   \n1  03 STATEN ISLAND    DOOR/WINDOW  2017-08-16T17:12:49.000   \n2       14 BROOKLYN       ELECTRIC  2017-08-16T11:00:22.000   \n3       17 BROOKLYN       ELECTRIC  2017-08-16T13:37:49.000   \n4       01 BROOKLYN       ELECTRIC  2017-08-16T17:00:10.000   \n\n            ...            open_data_channel_type   park_borough  \\\n0           ...                            ONLINE       BROOKLYN   \n1           ...                            ONLINE  STATEN ISLAND   \n2           ...                             PHONE       BROOKLYN   \n3           ...                             PHONE       BROOKLYN   \n4           ...                             PHONE       BROOKLYN   \n\n  park_facility_name resolution_action_updated_date  \\\n0        Unspecified        2017-08-18T10:52:21.000   \n1        Unspecified        2017-09-01T09:23:46.000   \n2        Unspecified        2017-08-30T21:19:18.000   \n3        Unspecified        2017-08-20T18:16:33.000   \n4        Unspecified        2017-09-07T12:21:31.000   \n\n                              resolution_description  status  \\\n0  The Department of Housing Preservation and Dev...  Closed   \n1  The Department of Housing Preservation and Dev...  Closed   \n2  The Department of Housing Preservation and Dev...  Closed   \n3  The Department of Housing Preservation and Dev...  Closed   \n4  The Department of Housing Preservation and Dev...  Closed   \n\n               street_name unique_key x_coordinate_state_plane  \\\n0  MARCUS GARVEY BOULEVARD   36959789                  1000846   \n1         ARTHUR KILL ROAD   36959790                   924602   \n2         EAST   18 STREET   36959796                   996102   \n3         EAST   96 STREET   36959797                  1005887   \n4        SOUTH    5 STREET   36959803                   996977   \n\n  y_coordinate_state_plane  \n0                   191999  \n1                   141760  \n2                   164811  \n3                   180326  \n4                   197195  \n\n[5 rows x 31 columns]"
                    }, 
                    "execution_count": 20, 
                    "metadata": {}
                }
            ], 
            "execution_count": 20
        }, 
        {
            "source": "total_df.columns", 
            "cell_type": "code", 
            "metadata": {}, 
            "outputs": [
                {
                    "output_type": "execute_result", 
                    "data": {
                        "text/plain": "Index(['address_type', 'agency', 'agency_name', 'bbl', 'borough', 'city',\n       'closed_date', 'community_board', 'complaint_type', 'created_date',\n       'cross_street_1', 'cross_street_2', 'descriptor', 'due_date',\n       'facility_type', 'incident_address', 'incident_zip', 'latitude',\n       'location', 'location_type', 'longitude', 'open_data_channel_type',\n       'park_borough', 'park_facility_name', 'resolution_action_updated_date',\n       'resolution_description', 'status', 'street_name', 'unique_key',\n       'x_coordinate_state_plane', 'y_coordinate_state_plane'],\n      dtype='object')"
                    }, 
                    "execution_count": 22, 
                    "metadata": {}
                }
            ], 
            "execution_count": 22
        }, 
        {
            "source": "total_df.to_csv(\"HPD.csv\")", 
            "cell_type": "code", 
            "metadata": {}, 
            "outputs": [], 
            "execution_count": null
        }
    ], 
    "metadata": {
        "kernelspec": {
            "display_name": "Python 3.5", 
            "name": "python3", 
            "language": "python"
        }, 
        "language_info": {
            "mimetype": "text/x-python", 
            "nbconvert_exporter": "python", 
            "version": "3.5.5", 
            "name": "python", 
            "file_extension": ".py", 
            "pygments_lexer": "ipython3", 
            "codemirror_mode": {
                "version": 3, 
                "name": "ipython"
            }
        }
    }, 
    "nbformat": 4
}