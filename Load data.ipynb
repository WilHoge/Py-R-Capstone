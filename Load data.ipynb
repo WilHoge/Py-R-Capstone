{
 "cells": [
  {
   "cell_type": "code",
   "execution_count": null,
   "metadata": {},
   "outputs": [],
   "source": [
    "!pip install sodapy"
   ]
  },
  {
   "cell_type": "code",
   "execution_count": null,
   "metadata": {},
   "outputs": [],
   "source": [
    "import pandas as pd\n",
    "from sodapy import Socrata\n",
    "\n",
    "# Unauthenticated client only works with public data sets. Note 'None'\n",
    "# in place of application token, and no username or password:\n",
    "\n",
    "#client = Socrata(\"data.cityofnewyork.us\", None)\n",
    "\n",
    "appToken = '2JjXVN1Mrr63DgATy1isfsvYg'\n",
    "user='hoge@de.ibm.com'\n",
    "pw='iaCRT23tP9g52KX'\n",
    "\n",
    "client = Socrata(\"data.cityofnewyork.us\",\n",
    "                  appToken,\n",
    "                  username=user,\n",
    "                  password=pw)"
   ]
  },
  {
   "cell_type": "code",
   "execution_count": null,
   "metadata": {},
   "outputs": [],
   "source": [
    "# Loop to get all data (if complete set in one shot is not working)\n",
    "limit=500000\n",
    "total=0\n",
    "res_rows=-1\n",
    "\n",
    "while res_rows != 0:\n",
    "    results = client.get(\"fhrw-4uyv\", limit=limit, offset=total, agency='HPD')\n",
    "    results_df = pd.DataFrame.from_records(results)\n",
    "    \n",
    "    res_rows, res_col = results_df.shape\n",
    "    print (\"Received %d rows from socrata\" % res_rows)\n",
    "    \n",
    "    if total == 0:\n",
    "        total_df = results_df\n",
    "    else:\n",
    "        total_df = pd.concat([total_df, results_df])\n",
    "        \n",
    "    tot_rows, tot_col = total_df.shape\n",
    "    print (\"Total of %d rows saved\" % tot_rows)\n",
    "    \n",
    "    total = tot_rows"
   ]
  },
  {
   "cell_type": "code",
   "execution_count": null,
   "metadata": {},
   "outputs": [],
   "source": [
    "# trying to get all data in one shot\n",
    "\n",
    "results = client.get(\"fhrw-4uyv\", agency='HPD', limit=6000000)\n",
    "total_df = pd.DataFrame.from_records(results)"
   ]
  },
  {
   "cell_type": "code",
   "execution_count": null,
   "metadata": {},
   "outputs": [],
   "source": [
    "numrows, numcolumns = total_df.shape\n",
    "numrows"
   ]
  },
  {
   "cell_type": "code",
   "execution_count": null,
   "metadata": {},
   "outputs": [],
   "source": [
    "total_df.head()"
   ]
  },
  {
   "cell_type": "code",
   "execution_count": null,
   "metadata": {},
   "outputs": [],
   "source": [
    "total_df.columns"
   ]
  },
  {
   "cell_type": "code",
   "execution_count": null,
   "metadata": {},
   "outputs": [],
   "source": [
    "total_df.drop(['agency','agency_name','resolution_description','cross_street_1','cross_street_2','unique_key',\n",
    "       'x_coordinate_state_plane','y_coordinate_state_plane'], axis=1, inplace=True)"
   ]
  },
  {
   "cell_type": "code",
   "execution_count": null,
   "metadata": {},
   "outputs": [],
   "source": [
    "total_df.to_csv(\"HPD.csv\")"
   ]
  }
 ],
 "metadata": {
  "kernelspec": {
   "display_name": "Python 3",
   "language": "python",
   "name": "python3"
  },
  "language_info": {
   "codemirror_mode": {
    "name": "ipython",
    "version": 3
   },
   "file_extension": ".py",
   "mimetype": "text/x-python",
   "name": "python",
   "nbconvert_exporter": "python",
   "pygments_lexer": "ipython3",
   "version": "3.7.1"
  }
 },
 "nbformat": 4,
 "nbformat_minor": 2
}
