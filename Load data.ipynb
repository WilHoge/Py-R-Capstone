{
    "nbformat_minor": 1, 
    "cells": [
        {
            "source": "#!pip install sodapy", 
            "cell_type": "code", 
            "metadata": {}, 
            "outputs": [], 
            "execution_count": 6
        }, 
        {
            "source": "import pandas as pd\nfrom sodapy import Socrata\n\n# Unauthenticated client only works with public data sets. Note 'None'\n# in place of application token, and no username or password:\n\n#client = Socrata(\"data.cityofnewyork.us\", None)\n\nappToken = '2JjXVN1Mrr63DgATy1isfsvYg'\nuser='hoge@de.ibm.com'\npw='iaCRT23tP9g52KX'\n\nclient = Socrata(\"data.cityofnewyork.us\",\n                  appToken,\n                  username=user,\n                  password=pw)\n\n\n# First 2000 results, returned as JSON from API / converted to Python list of\n# dictionaries by sodapy.\n\n#results = client.get(\"fhrw-4uyv\", limit=2000, agency='HPD')\nresults = client.get(\"fhrw-4uyv\", limit=6000000, agency='HPD')\n\n# Convert to pandas DataFrame\nresults_df = pd.DataFrame.from_records(results)", 
            "cell_type": "code", 
            "metadata": {}, 
            "outputs": [], 
            "execution_count": null
        }, 
        {
            "source": "results_df.shape", 
            "cell_type": "code", 
            "metadata": {}, 
            "outputs": [
                {
                    "output_type": "execute_result", 
                    "data": {
                        "text/plain": "(1000, 30)"
                    }, 
                    "execution_count": 23, 
                    "metadata": {}
                }
            ], 
            "execution_count": 23
        }, 
        {
            "source": "results_df.head()", 
            "cell_type": "code", 
            "metadata": {}, 
            "outputs": [
                {
                    "output_type": "execute_result", 
                    "data": {
                        "text/html": "<div>\n<style scoped>\n    .dataframe tbody tr th:only-of-type {\n        vertical-align: middle;\n    }\n\n    .dataframe tbody tr th {\n        vertical-align: top;\n    }\n\n    .dataframe thead th {\n        text-align: right;\n    }\n</style>\n<table border=\"1\" class=\"dataframe\">\n  <thead>\n    <tr style=\"text-align: right;\">\n      <th></th>\n      <th>address_type</th>\n      <th>agency</th>\n      <th>agency_name</th>\n      <th>bbl</th>\n      <th>borough</th>\n      <th>city</th>\n      <th>closed_date</th>\n      <th>community_board</th>\n      <th>complaint_type</th>\n      <th>created_date</th>\n      <th>...</th>\n      <th>open_data_channel_type</th>\n      <th>park_borough</th>\n      <th>park_facility_name</th>\n      <th>resolution_action_updated_date</th>\n      <th>resolution_description</th>\n      <th>status</th>\n      <th>street_name</th>\n      <th>unique_key</th>\n      <th>x_coordinate_state_plane</th>\n      <th>y_coordinate_state_plane</th>\n    </tr>\n  </thead>\n  <tbody>\n    <tr>\n      <th>0</th>\n      <td>ADDRESS</td>\n      <td>HPD</td>\n      <td>Department of Housing Preservation and Develop...</td>\n      <td>3012170009</td>\n      <td>BROOKLYN</td>\n      <td>BROOKLYN</td>\n      <td>2013-12-09T00:00:00.000</td>\n      <td>08 BROOKLYN</td>\n      <td>GENERAL CONSTRUCTION</td>\n      <td>2013-12-03T00:00:00.000</td>\n      <td>...</td>\n      <td>PHONE</td>\n      <td>BROOKLYN</td>\n      <td>Unspecified</td>\n      <td>2013-12-09T00:00:00.000</td>\n      <td>The Department of Housing Preservation and Dev...</td>\n      <td>Closed</td>\n      <td>FRANKLIN AVENUE</td>\n      <td>26804402</td>\n      <td>996490</td>\n      <td>185724</td>\n    </tr>\n    <tr>\n      <th>1</th>\n      <td>ADDRESS</td>\n      <td>HPD</td>\n      <td>Department of Housing Preservation and Develop...</td>\n      <td>1005900025</td>\n      <td>MANHATTAN</td>\n      <td>NEW YORK</td>\n      <td>2014-03-28T00:00:00.000</td>\n      <td>02 MANHATTAN</td>\n      <td>CONSTRUCTION</td>\n      <td>2013-12-03T00:00:00.000</td>\n      <td>...</td>\n      <td>PHONE</td>\n      <td>MANHATTAN</td>\n      <td>Unspecified</td>\n      <td>2014-03-28T00:00:00.000</td>\n      <td>The Department of Housing Preservation and Dev...</td>\n      <td>Closed</td>\n      <td>JONES STREET</td>\n      <td>26804403</td>\n      <td>983702</td>\n      <td>206037</td>\n    </tr>\n    <tr>\n      <th>2</th>\n      <td>ADDRESS</td>\n      <td>HPD</td>\n      <td>Department of Housing Preservation and Develop...</td>\n      <td>1021790205</td>\n      <td>MANHATTAN</td>\n      <td>NEW YORK</td>\n      <td>2014-01-13T00:00:00.000</td>\n      <td>Unspecified MANHATTAN</td>\n      <td>PAINT - PLASTER</td>\n      <td>2013-12-03T00:00:00.000</td>\n      <td>...</td>\n      <td>PHONE</td>\n      <td>MANHATTAN</td>\n      <td>Unspecified</td>\n      <td>2014-01-13T00:00:00.000</td>\n      <td>The Department of Housing Preservation and Dev...</td>\n      <td>Closed</td>\n      <td>PINEHURST AVENUE</td>\n      <td>26804407</td>\n      <td>1001363</td>\n      <td>250516</td>\n    </tr>\n    <tr>\n      <th>3</th>\n      <td>ADDRESS</td>\n      <td>HPD</td>\n      <td>Department of Housing Preservation and Develop...</td>\n      <td>1004940024</td>\n      <td>MANHATTAN</td>\n      <td>NEW YORK</td>\n      <td>2013-12-05T00:00:00.000</td>\n      <td>02 MANHATTAN</td>\n      <td>PAINT - PLASTER</td>\n      <td>2013-12-03T00:00:00.000</td>\n      <td>...</td>\n      <td>PHONE</td>\n      <td>MANHATTAN</td>\n      <td>Unspecified</td>\n      <td>2013-12-05T00:00:00.000</td>\n      <td>The Department of Housing Preservation and Dev...</td>\n      <td>Closed</td>\n      <td>MOTT STREET</td>\n      <td>26804413</td>\n      <td>985603</td>\n      <td>202516</td>\n    </tr>\n    <tr>\n      <th>4</th>\n      <td>ADDRESS</td>\n      <td>HPD</td>\n      <td>Department of Housing Preservation and Develop...</td>\n      <td>4033940020</td>\n      <td>QUEENS</td>\n      <td>Ridgewood</td>\n      <td>2013-12-11T00:00:00.000</td>\n      <td>05 QUEENS</td>\n      <td>HEATING</td>\n      <td>2013-12-03T00:00:00.000</td>\n      <td>...</td>\n      <td>ONLINE</td>\n      <td>QUEENS</td>\n      <td>Unspecified</td>\n      <td>2013-12-11T00:00:00.000</td>\n      <td>The Department of Housing Preservation and Dev...</td>\n      <td>Closed</td>\n      <td>FLUSHING AVENUE</td>\n      <td>26804418</td>\n      <td>1006554</td>\n      <td>198587</td>\n    </tr>\n  </tbody>\n</table>\n<p>5 rows \u00d7 30 columns</p>\n</div>", 
                        "text/plain": "  address_type agency                                        agency_name  \\\n0      ADDRESS    HPD  Department of Housing Preservation and Develop...   \n1      ADDRESS    HPD  Department of Housing Preservation and Develop...   \n2      ADDRESS    HPD  Department of Housing Preservation and Develop...   \n3      ADDRESS    HPD  Department of Housing Preservation and Develop...   \n4      ADDRESS    HPD  Department of Housing Preservation and Develop...   \n\n          bbl    borough       city              closed_date  \\\n0  3012170009   BROOKLYN   BROOKLYN  2013-12-09T00:00:00.000   \n1  1005900025  MANHATTAN   NEW YORK  2014-03-28T00:00:00.000   \n2  1021790205  MANHATTAN   NEW YORK  2014-01-13T00:00:00.000   \n3  1004940024  MANHATTAN   NEW YORK  2013-12-05T00:00:00.000   \n4  4033940020     QUEENS  Ridgewood  2013-12-11T00:00:00.000   \n\n         community_board        complaint_type             created_date  \\\n0            08 BROOKLYN  GENERAL CONSTRUCTION  2013-12-03T00:00:00.000   \n1           02 MANHATTAN          CONSTRUCTION  2013-12-03T00:00:00.000   \n2  Unspecified MANHATTAN       PAINT - PLASTER  2013-12-03T00:00:00.000   \n3           02 MANHATTAN       PAINT - PLASTER  2013-12-03T00:00:00.000   \n4              05 QUEENS               HEATING  2013-12-03T00:00:00.000   \n\n            ...            open_data_channel_type park_borough  \\\n0           ...                             PHONE     BROOKLYN   \n1           ...                             PHONE    MANHATTAN   \n2           ...                             PHONE    MANHATTAN   \n3           ...                             PHONE    MANHATTAN   \n4           ...                            ONLINE       QUEENS   \n\n  park_facility_name resolution_action_updated_date  \\\n0        Unspecified        2013-12-09T00:00:00.000   \n1        Unspecified        2014-03-28T00:00:00.000   \n2        Unspecified        2014-01-13T00:00:00.000   \n3        Unspecified        2013-12-05T00:00:00.000   \n4        Unspecified        2013-12-11T00:00:00.000   \n\n                              resolution_description  status  \\\n0  The Department of Housing Preservation and Dev...  Closed   \n1  The Department of Housing Preservation and Dev...  Closed   \n2  The Department of Housing Preservation and Dev...  Closed   \n3  The Department of Housing Preservation and Dev...  Closed   \n4  The Department of Housing Preservation and Dev...  Closed   \n\n        street_name unique_key x_coordinate_state_plane  \\\n0   FRANKLIN AVENUE   26804402                   996490   \n1      JONES STREET   26804403                   983702   \n2  PINEHURST AVENUE   26804407                  1001363   \n3       MOTT STREET   26804413                   985603   \n4   FLUSHING AVENUE   26804418                  1006554   \n\n  y_coordinate_state_plane  \n0                   185724  \n1                   206037  \n2                   250516  \n3                   202516  \n4                   198587  \n\n[5 rows x 30 columns]"
                    }, 
                    "execution_count": 24, 
                    "metadata": {}
                }
            ], 
            "execution_count": 24
        }, 
        {
            "source": "results_df.columns", 
            "cell_type": "code", 
            "metadata": {}, 
            "outputs": [
                {
                    "output_type": "execute_result", 
                    "data": {
                        "text/plain": "Index(['address_type', 'agency', 'agency_name', 'bbl', 'borough', 'city',\n       'closed_date', 'community_board', 'complaint_type', 'created_date',\n       'cross_street_1', 'cross_street_2', 'descriptor', 'facility_type',\n       'incident_address', 'incident_zip', 'latitude', 'location',\n       'location_type', 'longitude', 'open_data_channel_type', 'park_borough',\n       'park_facility_name', 'resolution_action_updated_date',\n       'resolution_description', 'status', 'street_name', 'unique_key',\n       'x_coordinate_state_plane', 'y_coordinate_state_plane'],\n      dtype='object')"
                    }, 
                    "execution_count": 12, 
                    "metadata": {}
                }
            ], 
            "execution_count": 12
        }
    ], 
    "metadata": {
        "kernelspec": {
            "display_name": "Python 3.5", 
            "name": "python3", 
            "language": "python"
        }, 
        "language_info": {
            "mimetype": "text/x-python", 
            "nbconvert_exporter": "python", 
            "version": "3.5.5", 
            "name": "python", 
            "pygments_lexer": "ipython3", 
            "file_extension": ".py", 
            "codemirror_mode": {
                "version": 3, 
                "name": "ipython"
            }
        }
    }, 
    "nbformat": 4
}