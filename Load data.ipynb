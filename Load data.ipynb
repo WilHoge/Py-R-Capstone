{
    "nbformat_minor": 1, 
    "cells": [
        {
            "source": "!pip install sodapy", 
            "cell_type": "code", 
            "metadata": {}, 
            "outputs": [
                {
                    "output_type": "stream", 
                    "name": "stdout", 
                    "text": "Collecting sodapy\n  Downloading https://files.pythonhosted.org/packages/11/02/5baf6e10a47018babcc43e3ed03a6f13712187f4ab1fbe263b479c77d117/sodapy-1.5.2-py2.py3-none-any.whl\nCollecting future>=0.17.1 (from sodapy)\n  Downloading https://files.pythonhosted.org/packages/90/52/e20466b85000a181e1e144fd8305caf2cf475e2f9674e797b222f8105f5f/future-0.17.1.tar.gz (829kB)\n\u001b[K    100% |\u2588\u2588\u2588\u2588\u2588\u2588\u2588\u2588\u2588\u2588\u2588\u2588\u2588\u2588\u2588\u2588\u2588\u2588\u2588\u2588\u2588\u2588\u2588\u2588\u2588\u2588\u2588\u2588\u2588\u2588\u2588\u2588| 829kB 1.2MB/s eta 0:00:01\n\u001b[?25hCollecting requests>=2.20.0 (from sodapy)\n  Downloading https://files.pythonhosted.org/packages/7d/e3/20f3d364d6c8e5d2353c72a67778eb189176f08e873c9900e10c0287b84b/requests-2.21.0-py2.py3-none-any.whl (57kB)\n\u001b[K    100% |\u2588\u2588\u2588\u2588\u2588\u2588\u2588\u2588\u2588\u2588\u2588\u2588\u2588\u2588\u2588\u2588\u2588\u2588\u2588\u2588\u2588\u2588\u2588\u2588\u2588\u2588\u2588\u2588\u2588\u2588\u2588\u2588| 61kB 8.3MB/s eta 0:00:01\n\u001b[?25hRequirement not upgraded as not directly required: idna<2.9,>=2.5 in /opt/conda/envs/DSX-Python35/lib/python3.5/site-packages (from requests>=2.20.0->sodapy)\nRequirement not upgraded as not directly required: urllib3<1.25,>=1.21.1 in /opt/conda/envs/DSX-Python35/lib/python3.5/site-packages (from requests>=2.20.0->sodapy)\nRequirement not upgraded as not directly required: certifi>=2017.4.17 in /opt/conda/envs/DSX-Python35/lib/python3.5/site-packages (from requests>=2.20.0->sodapy)\nRequirement not upgraded as not directly required: chardet<3.1.0,>=3.0.2 in /opt/conda/envs/DSX-Python35/lib/python3.5/site-packages (from requests>=2.20.0->sodapy)\nBuilding wheels for collected packages: future\n  Running setup.py bdist_wheel for future ... \u001b[?25ldone\n\u001b[?25h  Stored in directory: /home/dsxuser/.cache/pip/wheels/0c/61/d2/d6b7317325828fbb39ee6ad559dbe4664d0896da4721bf379e\nSuccessfully built future\nInstalling collected packages: future, requests, sodapy\n  Found existing installation: future 0.16.0\n\u001b[31m    DEPRECATION: Uninstalling a distutils installed project (future) has been deprecated and will be removed in a future version. This is due to the fact that uninstalling a distutils project will only partially uninstall the project.\u001b[0m\n    Uninstalling future-0.16.0:\n      Successfully uninstalled future-0.16.0\n  Found existing installation: requests 2.18.4\n    Uninstalling requests-2.18.4:\n      Successfully uninstalled requests-2.18.4\nSuccessfully installed future-0.17.1 requests-2.21.0 sodapy-1.5.2\n"
                }
            ], 
            "execution_count": 1
        }, 
        {
            "source": "import pandas as pd\nfrom sodapy import Socrata\n\n# Unauthenticated client only works with public data sets. Note 'None'\n# in place of application token, and no username or password:\nclient = Socrata(\"data.cityofnewyork.us\", None)\n\n# Example authenticated client (needed for non-public datasets):\n# client = Socrata(data.cityofnewyork.us,\n#                  MyAppToken,\n#                  userame=\"user@example.com\",\n#                  password=\"AFakePassword\")\n\n# First 2000 results, returned as JSON from API / converted to Python list of\n# dictionaries by sodapy.\nresults = client.get(\"fhrw-4uyv\", limit=2000)\n\n# Convert to pandas DataFrame\nresults_df = pd.DataFrame.from_records(results)", 
            "cell_type": "code", 
            "metadata": {}, 
            "outputs": [
                {
                    "output_type": "stream", 
                    "name": "stderr", 
                    "text": "WARNING:root:Requests made without an app_token will be subject to strict throttling limits.\n"
                }
            ], 
            "execution_count": 2
        }, 
        {
            "source": "results_df.shape", 
            "cell_type": "code", 
            "metadata": {}, 
            "outputs": [
                {
                    "output_type": "execute_result", 
                    "data": {
                        "text/plain": "(2000, 44)"
                    }, 
                    "execution_count": 4, 
                    "metadata": {}
                }
            ], 
            "execution_count": 4
        }, 
        {
            "source": "results_df.head()", 
            "cell_type": "code", 
            "metadata": {}, 
            "outputs": [
                {
                    "output_type": "execute_result", 
                    "data": {
                        "text/html": "<div>\n<style scoped>\n    .dataframe tbody tr th:only-of-type {\n        vertical-align: middle;\n    }\n\n    .dataframe tbody tr th {\n        vertical-align: top;\n    }\n\n    .dataframe thead th {\n        text-align: right;\n    }\n</style>\n<table border=\"1\" class=\"dataframe\">\n  <thead>\n    <tr style=\"text-align: right;\">\n      <th></th>\n      <th>:@computed_region_92fq_4b7q</th>\n      <th>:@computed_region_efsh_h5xi</th>\n      <th>:@computed_region_f5dn_yrer</th>\n      <th>:@computed_region_sbqj_enih</th>\n      <th>:@computed_region_yeji_bk3q</th>\n      <th>address_type</th>\n      <th>agency</th>\n      <th>agency_name</th>\n      <th>bbl</th>\n      <th>borough</th>\n      <th>...</th>\n      <th>park_facility_name</th>\n      <th>resolution_action_updated_date</th>\n      <th>resolution_description</th>\n      <th>road_ramp</th>\n      <th>status</th>\n      <th>street_name</th>\n      <th>taxi_pick_up_location</th>\n      <th>unique_key</th>\n      <th>x_coordinate_state_plane</th>\n      <th>y_coordinate_state_plane</th>\n    </tr>\n  </thead>\n  <tbody>\n    <tr>\n      <th>0</th>\n      <td>25</td>\n      <td>17614</td>\n      <td>55</td>\n      <td>46</td>\n      <td>2</td>\n      <td>ADDRESS</td>\n      <td>HPD</td>\n      <td>Department of Housing Preservation and Develop...</td>\n      <td>3036380021</td>\n      <td>BROOKLYN</td>\n      <td>...</td>\n      <td>Unspecified</td>\n      <td>2013-12-03T00:00:00.000</td>\n      <td>More than one complaint was received for this ...</td>\n      <td>NaN</td>\n      <td>Closed</td>\n      <td>OSBORN STREET</td>\n      <td>NaN</td>\n      <td>26789339</td>\n      <td>1010537</td>\n      <td>178223</td>\n    </tr>\n    <tr>\n      <th>1</th>\n      <td>22</td>\n      <td>10935</td>\n      <td>6</td>\n      <td>29</td>\n      <td>5</td>\n      <td>ADDRESS</td>\n      <td>HPD</td>\n      <td>Department of Housing Preservation and Develop...</td>\n      <td>2028910006</td>\n      <td>BRONX</td>\n      <td>...</td>\n      <td>Unspecified</td>\n      <td>2013-12-05T00:00:00.000</td>\n      <td>The Department of Housing Preservation and Dev...</td>\n      <td>NaN</td>\n      <td>Closed</td>\n      <td>CLAY AVENUE</td>\n      <td>NaN</td>\n      <td>26789340</td>\n      <td>1010594</td>\n      <td>247285</td>\n    </tr>\n    <tr>\n      <th>2</th>\n      <td>40</td>\n      <td>11275</td>\n      <td>29</td>\n      <td>30</td>\n      <td>5</td>\n      <td>ADDRESS</td>\n      <td>HPD</td>\n      <td>Department of Housing Preservation and Develop...</td>\n      <td>2050430001</td>\n      <td>BRONX</td>\n      <td>...</td>\n      <td>Unspecified</td>\n      <td>2013-12-09T00:00:00.000</td>\n      <td>More than one complaint was received for this ...</td>\n      <td>NaN</td>\n      <td>Closed</td>\n      <td>FURMAN AVENUE</td>\n      <td>NaN</td>\n      <td>26789341</td>\n      <td>1024312</td>\n      <td>265628</td>\n    </tr>\n    <tr>\n      <th>3</th>\n      <td>31</td>\n      <td>11271</td>\n      <td>58</td>\n      <td>26</td>\n      <td>5</td>\n      <td>ADDRESS</td>\n      <td>HPD</td>\n      <td>Department of Housing Preservation and Develop...</td>\n      <td>2038190059</td>\n      <td>BRONX</td>\n      <td>...</td>\n      <td>Unspecified</td>\n      <td>2013-12-04T00:00:00.000</td>\n      <td>More than one complaint was received for this ...</td>\n      <td>NaN</td>\n      <td>Closed</td>\n      <td>HAVILAND AVENUE</td>\n      <td>NaN</td>\n      <td>26789342</td>\n      <td>1026040</td>\n      <td>241969</td>\n    </tr>\n    <tr>\n      <th>4</th>\n      <td>35</td>\n      <td>10933</td>\n      <td>8</td>\n      <td>24</td>\n      <td>5</td>\n      <td>ADDRESS</td>\n      <td>HPD</td>\n      <td>Department of Housing Preservation and Develop...</td>\n      <td>2026030026</td>\n      <td>BRONX</td>\n      <td>...</td>\n      <td>Unspecified</td>\n      <td>2013-12-06T00:00:00.000</td>\n      <td>The Department of Housing Preservation and Dev...</td>\n      <td>NaN</td>\n      <td>Closed</td>\n      <td>SOUTHERN BOULEVARD</td>\n      <td>NaN</td>\n      <td>26789343</td>\n      <td>1011239</td>\n      <td>235341</td>\n    </tr>\n  </tbody>\n</table>\n<p>5 rows \u00d7 44 columns</p>\n</div>", 
                        "text/plain": "  :@computed_region_92fq_4b7q :@computed_region_efsh_h5xi  \\\n0                          25                       17614   \n1                          22                       10935   \n2                          40                       11275   \n3                          31                       11271   \n4                          35                       10933   \n\n  :@computed_region_f5dn_yrer :@computed_region_sbqj_enih  \\\n0                          55                          46   \n1                           6                          29   \n2                          29                          30   \n3                          58                          26   \n4                           8                          24   \n\n  :@computed_region_yeji_bk3q address_type agency  \\\n0                           2      ADDRESS    HPD   \n1                           5      ADDRESS    HPD   \n2                           5      ADDRESS    HPD   \n3                           5      ADDRESS    HPD   \n4                           5      ADDRESS    HPD   \n\n                                         agency_name         bbl   borough  \\\n0  Department of Housing Preservation and Develop...  3036380021  BROOKLYN   \n1  Department of Housing Preservation and Develop...  2028910006     BRONX   \n2  Department of Housing Preservation and Develop...  2050430001     BRONX   \n3  Department of Housing Preservation and Develop...  2038190059     BRONX   \n4  Department of Housing Preservation and Develop...  2026030026     BRONX   \n\n            ...            park_facility_name resolution_action_updated_date  \\\n0           ...                   Unspecified        2013-12-03T00:00:00.000   \n1           ...                   Unspecified        2013-12-05T00:00:00.000   \n2           ...                   Unspecified        2013-12-09T00:00:00.000   \n3           ...                   Unspecified        2013-12-04T00:00:00.000   \n4           ...                   Unspecified        2013-12-06T00:00:00.000   \n\n                              resolution_description road_ramp  status  \\\n0  More than one complaint was received for this ...       NaN  Closed   \n1  The Department of Housing Preservation and Dev...       NaN  Closed   \n2  More than one complaint was received for this ...       NaN  Closed   \n3  More than one complaint was received for this ...       NaN  Closed   \n4  The Department of Housing Preservation and Dev...       NaN  Closed   \n\n          street_name taxi_pick_up_location unique_key  \\\n0       OSBORN STREET                   NaN   26789339   \n1         CLAY AVENUE                   NaN   26789340   \n2       FURMAN AVENUE                   NaN   26789341   \n3     HAVILAND AVENUE                   NaN   26789342   \n4  SOUTHERN BOULEVARD                   NaN   26789343   \n\n  x_coordinate_state_plane y_coordinate_state_plane  \n0                  1010537                   178223  \n1                  1010594                   247285  \n2                  1024312                   265628  \n3                  1026040                   241969  \n4                  1011239                   235341  \n\n[5 rows x 44 columns]"
                    }, 
                    "execution_count": 5, 
                    "metadata": {}
                }
            ], 
            "execution_count": 5
        }, 
        {
            "source": "", 
            "cell_type": "code", 
            "metadata": {}, 
            "outputs": [], 
            "execution_count": null
        }
    ], 
    "metadata": {
        "kernelspec": {
            "display_name": "Python 3.5", 
            "name": "python3", 
            "language": "python"
        }, 
        "language_info": {
            "mimetype": "text/x-python", 
            "nbconvert_exporter": "python", 
            "version": "3.5.5", 
            "name": "python", 
            "file_extension": ".py", 
            "pygments_lexer": "ipython3", 
            "codemirror_mode": {
                "version": 3, 
                "name": "ipython"
            }
        }
    }, 
    "nbformat": 4
}